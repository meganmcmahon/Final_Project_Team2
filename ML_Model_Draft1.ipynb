{
 "cells": [
  {
   "cell_type": "code",
   "execution_count": 1,
   "id": "e765f7d6",
   "metadata": {},
   "outputs": [],
   "source": [
    "# Import our dependencies\n",
    "import pandas as pd\n",
    "import numpy as np\n",
    "from pathlib import Path\n",
    "import matplotlib.pyplot as plt\n",
    "import sklearn as skl\n",
    "from sklearn.linear_model import LinearRegression\n",
    "from sklearn.model_selection import train_test_split\n",
    "from sklearn.preprocessing import StandardScaler,OneHotEncoder\n",
    "import tensorflow as tf\n",
    "import sqlalchemy\n",
    "from sqlalchemy import create_engine\n",
    "\n",
    "# For data cleaning - regular expressions\n",
    "import re\n",
    "\n",
    "# from config.py import db_password\n",
    "import psycopg2\n",
    "\n",
    "# - do we need this if it's already on the machine?"
   ]
  },
  {
   "cell_type": "code",
   "execution_count": 7,
   "id": "de535d94",
   "metadata": {},
   "outputs": [],
   "source": [
    "import config\n",
    "from config import db_password"
   ]
  },
  {
   "cell_type": "code",
   "execution_count": null,
   "id": "16022c9b",
   "metadata": {},
   "outputs": [],
   "source": [
    "# Database engine connection\n",
    "#need to call the Database in Postgres \"attrition_db\"\n",
    "\n",
    "# Postgres username, password, and database name (change accordingly)\n",
    "postgres_address = 'localhost'\n",
    "postgres_port = '5432' \n",
    "postgres_username = 'postgres' \n",
    "postgres_password = db_password\n",
    "postgres_dbname = 'attrition_db'\n",
    "# A long string that contains the necessary Postgres login information\n",
    "postgres_str = ('postgresql://{username}:{password}@{ipaddress}:{port}/{dbname}'\n",
    "                .format(username=postgres_username,\n",
    "                        password=postgres_password,\n",
    "                        ipaddress=postgres_address,\n",
    "                        port=postgres_port,\n",
    "                        dbname=postgres_dbname))\n",
    "# Create the connection\n",
    "engine = create_engine(postgres_str)"
   ]
  },
  {
   "cell_type": "code",
   "execution_count": null,
   "id": "45bbe810",
   "metadata": {},
   "outputs": [],
   "source": [
    "# Load the data\n",
    "attrition_df = pd.read_sql_query('''SELECT * FROM attrition_data_clean;''', engine)\n",
    "attrition_df_df.head()"
   ]
  },
  {
   "cell_type": "code",
   "execution_count": null,
   "id": "89ffd882",
   "metadata": {},
   "outputs": [],
   "source": [
    "# Read in csv file - Alternate method to read in the data if we weren't using the Postgres Database\n",
    "attrition_df = pd.read_csv(Path('watson_healthcare_modified.csv'))\n",
    "df.head()"
   ]
  },
  {
   "cell_type": "code",
   "execution_count": null,
   "id": "80e86000",
   "metadata": {},
   "outputs": [],
   "source": [
    "# Separate the Features (X) from the target (y)\n",
    "y = attrition_df[\"Attrition\"]\n",
    "X = attrition_df.drop(columns=\"Attrition\")"
   ]
  },
  {
   "cell_type": "code",
   "execution_count": null,
   "id": "4ac59f16",
   "metadata": {},
   "outputs": [],
   "source": [
    "# Split our data into Training and Testing\n",
    "from sklearn.model_selection import train_test_split\n",
    "\n",
    "X_train, X_test, y_train, y_test = train_test_split(X, \n",
    "                                                    y, \n",
    "                                                    random_state=1, \n",
    "                                                    stratify=y)\n",
    "X_train.shape"
   ]
  },
  {
   "cell_type": "code",
   "execution_count": null,
   "id": "29aa0039",
   "metadata": {},
   "outputs": [],
   "source": [
    "# Create a logistic regression model\n",
    "from sklearn.linear_model import LogisticRegression\n",
    "classifier = LogisticRegression(solver='lbfgs',\n",
    "                                max_iter=200,\n",
    "                                random_state=1)"
   ]
  },
  {
   "cell_type": "code",
   "execution_count": null,
   "id": "de382fbb",
   "metadata": {},
   "outputs": [],
   "source": [
    "# Train the model using the training data\n",
    "\n",
    "classifier.fit(X_train, y_train)"
   ]
  },
  {
   "cell_type": "code",
   "execution_count": null,
   "id": "b63a0b3a",
   "metadata": {},
   "outputs": [],
   "source": [
    "# Make predictions\n",
    "y_pred = classifier.predict(X_test)\n",
    "\n",
    "results = pd.DataFrame({\"Prediction\": y_pred, \"Actual\": y_test}).reset_index(drop=True)\n",
    "results.head(20)"
   ]
  },
  {
   "cell_type": "code",
   "execution_count": null,
   "id": "3058cf4e",
   "metadata": {},
   "outputs": [],
   "source": [
    "# Print the accuracy score\n",
    "from sklearn.metrics import accuracy_score\n",
    "print(accuracy_score(y_test, y_pred))"
   ]
  },
  {
   "cell_type": "code",
   "execution_count": null,
   "id": "03aa7fa8",
   "metadata": {},
   "outputs": [],
   "source": [
    "from sklearn.metrics import confusion_matrix, classification_report"
   ]
  },
  {
   "cell_type": "code",
   "execution_count": null,
   "id": "82a869a6",
   "metadata": {},
   "outputs": [],
   "source": [
    "matrix = confusion_matrix(y_test, y_pred)\n",
    "print(matrix)"
   ]
  },
  {
   "cell_type": "code",
   "execution_count": null,
   "id": "6315f7ea",
   "metadata": {},
   "outputs": [],
   "source": [
    "report = classification_report(y_test, y_pred)\n",
    "print(report)"
   ]
  },
  {
   "cell_type": "markdown",
   "id": "057a630e",
   "metadata": {},
   "source": [
    "test"
   ]
  }
 ],
 "metadata": {
  "kernelspec": {
   "display_name": "mlenv",
   "language": "python",
   "name": "mlenv"
  },
  "language_info": {
   "codemirror_mode": {
    "name": "ipython",
    "version": 3
   },
   "file_extension": ".py",
   "mimetype": "text/x-python",
   "name": "python",
   "nbconvert_exporter": "python",
   "pygments_lexer": "ipython3",
   "version": "3.7.13"
  }
 },
 "nbformat": 4,
 "nbformat_minor": 5
}
